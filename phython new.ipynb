{
 "cells": [
  {
   "cell_type": "code",
   "execution_count": 1,
   "id": "606e1fc9-0097-47ef-aa44-4579c3da2657",
   "metadata": {},
   "outputs": [],
   "source": [
    "#Explain the key features of phython that make it a popular choice of programming.\n",
    "#Ans:- A programming laguage is a format language for creating instructions for a computer to follow.\n",
    "#phython has so many advantages such as:-\n",
    "#Widely used in the industry\n",
    "#Data industry\n",
    "#A lot of libraries\n",
    "#Frontend, backend data anylysics\n",
    "#Automation\n",
    "#Image processing\n",
    "#Data base."
   ]
  },
  {
   "cell_type": "code",
   "execution_count": 2,
   "id": "9ec17dd6-0781-4163-bdce-37f923317a54",
   "metadata": {},
   "outputs": [],
   "source": [
    "#3) Compare and contrast mutable and immutable objects in phython with example? \n",
    "#Ans. Objects can be either changable or unchangeable. Mutable objects such as \"lists\" and dictirnaries can be modified\n",
    "    #after creation,while immutable objects such as tuples and strings,cannot. Mutability effects how objects are stored and manipulated\n",
    "    # In memory, impacting performnce, memory usage and concurrency in program."
   ]
  },
  {
   "cell_type": "code",
   "execution_count": 3,
   "id": "56588ac3-3918-4336-9551-19435cbecbf8",
   "metadata": {},
   "outputs": [],
   "source": [
    "# Below are the examples of mutability and immutability "
   ]
  },
  {
   "cell_type": "code",
   "execution_count": 4,
   "id": "5ac155c2-7478-46cd-8e3a-92503b7d5c05",
   "metadata": {},
   "outputs": [
    {
     "data": {
      "text/plain": [
       "6"
      ]
     },
     "execution_count": 4,
     "metadata": {},
     "output_type": "execute_result"
    }
   ],
   "source": [
    "# immutable and mutable examples \n",
    "a=6\n",
    "a"
   ]
  },
  {
   "cell_type": "code",
   "execution_count": 5,
   "id": "4a928ef9-cd1f-4290-86bc-3510fb181775",
   "metadata": {},
   "outputs": [
    {
     "data": {
      "text/plain": [
       "'Ajay'"
      ]
     },
     "execution_count": 5,
     "metadata": {},
     "output_type": "execute_result"
    }
   ],
   "source": [
    "b=\"Ajay\"\n",
    "b"
   ]
  },
  {
   "cell_type": "code",
   "execution_count": 6,
   "id": "ffec87a1-dc67-4e73-9731-f59ba4689a0c",
   "metadata": {},
   "outputs": [
    {
     "data": {
      "text/plain": [
       "'A'"
      ]
     },
     "execution_count": 6,
     "metadata": {},
     "output_type": "execute_result"
    }
   ],
   "source": [
    "b[0]"
   ]
  },
  {
   "cell_type": "code",
   "execution_count": 7,
   "id": "6f6e0cfa-5939-48b8-99f9-81b2173256ec",
   "metadata": {},
   "outputs": [
    {
     "data": {
      "text/plain": [
       "'a'"
      ]
     },
     "execution_count": 7,
     "metadata": {},
     "output_type": "execute_result"
    }
   ],
   "source": [
    "b[2]"
   ]
  },
  {
   "cell_type": "code",
   "execution_count": 8,
   "id": "780f978c-c4fb-4f28-97ce-df42077e5f16",
   "metadata": {},
   "outputs": [
    {
     "data": {
      "text/plain": [
       "'a'"
      ]
     },
     "execution_count": 8,
     "metadata": {},
     "output_type": "execute_result"
    }
   ],
   "source": [
    "b[-2]"
   ]
  },
  {
   "cell_type": "code",
   "execution_count": 9,
   "id": "7d6e5345-861d-4f0c-9184-f02099d1fdfc",
   "metadata": {},
   "outputs": [],
   "source": [
    "#DIscuss the differet types of operaters in python and provide examples how they are used."
   ]
  },
  {
   "cell_type": "code",
   "execution_count": 10,
   "id": "3cc33d94-47f8-41d3-8e55-af85ba18450d",
   "metadata": {},
   "outputs": [
    {
     "data": {
      "text/plain": [
       "6"
      ]
     },
     "execution_count": 10,
     "metadata": {},
     "output_type": "execute_result"
    }
   ],
   "source": [
    "# Arthmatic operator\n",
    "a=3\n",
    "b=3\n",
    "a+b"
   ]
  },
  {
   "cell_type": "code",
   "execution_count": 11,
   "id": "3e941bf1-8b88-42c0-9739-56970246681f",
   "metadata": {},
   "outputs": [
    {
     "data": {
      "text/plain": [
       "97"
      ]
     },
     "execution_count": 11,
     "metadata": {},
     "output_type": "execute_result"
    }
   ],
   "source": [
    "100-3"
   ]
  },
  {
   "cell_type": "code",
   "execution_count": 12,
   "id": "66b8b7f0-a4cd-4b61-aa45-c902b3cea906",
   "metadata": {},
   "outputs": [
    {
     "data": {
      "text/plain": [
       "15"
      ]
     },
     "execution_count": 12,
     "metadata": {},
     "output_type": "execute_result"
    }
   ],
   "source": [
    "3*5"
   ]
  },
  {
   "cell_type": "code",
   "execution_count": 13,
   "id": "141e3699-744e-41d7-8511-ebfb6a5e3665",
   "metadata": {},
   "outputs": [
    {
     "data": {
      "text/plain": [
       "5.25"
      ]
     },
     "execution_count": 13,
     "metadata": {},
     "output_type": "execute_result"
    }
   ],
   "source": [
    "21/4"
   ]
  },
  {
   "cell_type": "code",
   "execution_count": 14,
   "id": "5c2c21ff-8524-45c5-b329-3008d95d6205",
   "metadata": {},
   "outputs": [
    {
     "data": {
      "text/plain": [
       "1"
      ]
     },
     "execution_count": 14,
     "metadata": {},
     "output_type": "execute_result"
    }
   ],
   "source": [
    "#Modular operator\n",
    "21%4"
   ]
  },
  {
   "cell_type": "code",
   "execution_count": 15,
   "id": "e02187ae-edb8-48dd-9c85-c4f8b7a9cb65",
   "metadata": {},
   "outputs": [
    {
     "data": {
      "text/plain": [
       "32"
      ]
     },
     "execution_count": 15,
     "metadata": {},
     "output_type": "execute_result"
    }
   ],
   "source": [
    "2**5"
   ]
  },
  {
   "cell_type": "code",
   "execution_count": 16,
   "id": "2524ebab-5ee7-4b7d-93ec-a423e4a161c0",
   "metadata": {},
   "outputs": [
    {
     "data": {
      "text/plain": [
       "True"
      ]
     },
     "execution_count": 16,
     "metadata": {},
     "output_type": "execute_result"
    }
   ],
   "source": [
    "#comparison operator\n",
    "2==2"
   ]
  },
  {
   "cell_type": "code",
   "execution_count": 17,
   "id": "bc8bd1bf-9ca8-4ac5-8b4f-822bec4bc461",
   "metadata": {},
   "outputs": [
    {
     "data": {
      "text/plain": [
       "False"
      ]
     },
     "execution_count": 17,
     "metadata": {},
     "output_type": "execute_result"
    }
   ],
   "source": [
    "10<2"
   ]
  },
  {
   "cell_type": "code",
   "execution_count": 18,
   "id": "d2f09dd1-c8bc-42ea-a1ba-51725717036f",
   "metadata": {},
   "outputs": [
    {
     "data": {
      "text/plain": [
       "True"
      ]
     },
     "execution_count": 18,
     "metadata": {},
     "output_type": "execute_result"
    }
   ],
   "source": [
    "12>=5"
   ]
  },
  {
   "cell_type": "code",
   "execution_count": 19,
   "id": "4faf7d5e-ddf8-4c11-8a24-c3e615317d1d",
   "metadata": {},
   "outputs": [
    {
     "data": {
      "text/plain": [
       "10"
      ]
     },
     "execution_count": 19,
     "metadata": {},
     "output_type": "execute_result"
    }
   ],
   "source": [
    "#logicl operator\n",
    "a=10\n",
    "a"
   ]
  },
  {
   "cell_type": "code",
   "execution_count": 20,
   "id": "f70ef140-b15b-466a-b5b7-1d0dc2929d10",
   "metadata": {},
   "outputs": [
    {
     "data": {
      "text/plain": [
       "16"
      ]
     },
     "execution_count": 20,
     "metadata": {},
     "output_type": "execute_result"
    }
   ],
   "source": [
    "b=12\n",
    "b=b+4\n",
    "b"
   ]
  },
  {
   "cell_type": "code",
   "execution_count": 21,
   "id": "eb9603b3-15b3-4fb4-b407-d230f04f142e",
   "metadata": {},
   "outputs": [
    {
     "data": {
      "text/plain": [
       "37"
      ]
     },
     "execution_count": 21,
     "metadata": {},
     "output_type": "execute_result"
    }
   ],
   "source": [
    "b=12\n",
    "b+=5\n",
    "b=b+10\n",
    "b+=10\n",
    "b\n"
   ]
  },
  {
   "cell_type": "code",
   "execution_count": 22,
   "id": "c1859cef-cdd3-4122-9264-f347645e85dd",
   "metadata": {},
   "outputs": [
    {
     "data": {
      "text/plain": [
       "7"
      ]
     },
     "execution_count": 22,
     "metadata": {},
     "output_type": "execute_result"
    }
   ],
   "source": [
    "b=12\n",
    "b-=5\n",
    "b"
   ]
  },
  {
   "cell_type": "code",
   "execution_count": 23,
   "id": "8f459ea5-267a-4ca8-971b-2071c52d4129",
   "metadata": {},
   "outputs": [
    {
     "data": {
      "text/plain": [
       "14"
      ]
     },
     "execution_count": 23,
     "metadata": {},
     "output_type": "execute_result"
    }
   ],
   "source": [
    "b*=2\n",
    "b"
   ]
  },
  {
   "cell_type": "code",
   "execution_count": 24,
   "id": "ca3da104-fb44-438b-acbd-49ee9028604f",
   "metadata": {},
   "outputs": [
    {
     "data": {
      "text/plain": [
       "True"
      ]
     },
     "execution_count": 24,
     "metadata": {},
     "output_type": "execute_result"
    }
   ],
   "source": [
    "#membership operators \n",
    "a=\"pw skills\"\n",
    "\"p\" in a"
   ]
  },
  {
   "cell_type": "code",
   "execution_count": 25,
   "id": "f8916e5c-c8f9-40ab-a5fb-9341bd17be6e",
   "metadata": {},
   "outputs": [
    {
     "data": {
      "text/plain": [
       "False"
      ]
     },
     "execution_count": 25,
     "metadata": {},
     "output_type": "execute_result"
    }
   ],
   "source": [
    "b=\"Kiran\"\n",
    "\"jaya\" in b"
   ]
  },
  {
   "cell_type": "code",
   "execution_count": 26,
   "id": "2b845ff7-c7ef-4049-87f1-85f5591bde46",
   "metadata": {},
   "outputs": [
    {
     "data": {
      "text/plain": [
       "False"
      ]
     },
     "execution_count": 26,
     "metadata": {},
     "output_type": "execute_result"
    }
   ],
   "source": [
    "#Identity operator\n",
    "a=2\n",
    "b=3\n",
    "a is b "
   ]
  },
  {
   "cell_type": "code",
   "execution_count": 27,
   "id": "f141dc02-f1c1-4936-b69b-839d8dc7530a",
   "metadata": {},
   "outputs": [
    {
     "data": {
      "text/plain": [
       "True"
      ]
     },
     "execution_count": 27,
     "metadata": {},
     "output_type": "execute_result"
    }
   ],
   "source": [
    "b=2\n",
    "a=b\n",
    "a is b "
   ]
  },
  {
   "cell_type": "code",
   "execution_count": 28,
   "id": "8a136725-d1b9-424a-b6b5-4fec709a1d79",
   "metadata": {},
   "outputs": [
    {
     "data": {
      "text/plain": [
       "10"
      ]
     },
     "execution_count": 28,
     "metadata": {},
     "output_type": "execute_result"
    }
   ],
   "source": [
    "#bitwise operator \n",
    "10 & 10"
   ]
  },
  {
   "cell_type": "code",
   "execution_count": 29,
   "id": "9485e4cf-feec-489d-9319-1937c12ee0a0",
   "metadata": {},
   "outputs": [
    {
     "data": {
      "text/plain": [
       "6"
      ]
     },
     "execution_count": 29,
     "metadata": {},
     "output_type": "execute_result"
    }
   ],
   "source": [
    "5^3"
   ]
  },
  {
   "cell_type": "code",
   "execution_count": 30,
   "id": "066f6089-9c43-456c-985d-000ab2a75964",
   "metadata": {},
   "outputs": [
    {
     "data": {
      "text/plain": [
       "4"
      ]
     },
     "execution_count": 30,
     "metadata": {},
     "output_type": "execute_result"
    }
   ],
   "source": [
    "2^6"
   ]
  },
  {
   "cell_type": "code",
   "execution_count": 31,
   "id": "ffd409ef-d68f-4d0b-a578-3de68e01a82f",
   "metadata": {},
   "outputs": [
    {
     "data": {
      "text/plain": [
       "280"
      ]
     },
     "execution_count": 31,
     "metadata": {},
     "output_type": "execute_result"
    }
   ],
   "source": [
    "# Shift operator ( Left shift)\n",
    "35<<3\n"
   ]
  },
  {
   "cell_type": "code",
   "execution_count": 32,
   "id": "a5526836-dabb-45fc-b058-c3faffe56175",
   "metadata": {},
   "outputs": [
    {
     "data": {
      "text/plain": [
       "10"
      ]
     },
     "execution_count": 32,
     "metadata": {},
     "output_type": "execute_result"
    }
   ],
   "source": [
    "5<<1"
   ]
  },
  {
   "cell_type": "code",
   "execution_count": 33,
   "id": "1fd21bbb-e1c4-4546-a6e5-82d88b7aea4a",
   "metadata": {},
   "outputs": [
    {
     "data": {
      "text/plain": [
       "35"
      ]
     },
     "execution_count": 33,
     "metadata": {},
     "output_type": "execute_result"
    }
   ],
   "source": [
    "#right shift operator\n",
    "280>>3"
   ]
  },
  {
   "cell_type": "code",
   "execution_count": 34,
   "id": "ad74d940-7ca5-45eb-b245-70a3c3fb55e9",
   "metadata": {},
   "outputs": [
    {
     "data": {
      "text/plain": [
       "0"
      ]
     },
     "execution_count": 34,
     "metadata": {},
     "output_type": "execute_result"
    }
   ],
   "source": [
    "10>>5"
   ]
  },
  {
   "cell_type": "code",
   "execution_count": 35,
   "id": "332268b7-d631-43e5-816f-cecc14697e2f",
   "metadata": {},
   "outputs": [
    {
     "data": {
      "text/plain": [
       "-3"
      ]
     },
     "execution_count": 35,
     "metadata": {},
     "output_type": "execute_result"
    }
   ],
   "source": [
    "#order of procedure \n",
    "2+3-8"
   ]
  },
  {
   "cell_type": "code",
   "execution_count": 36,
   "id": "730e443f-cb66-4b60-b6d8-8725570bea2d",
   "metadata": {},
   "outputs": [
    {
     "data": {
      "text/plain": [
       "13"
      ]
     },
     "execution_count": 36,
     "metadata": {},
     "output_type": "execute_result"
    }
   ],
   "source": [
    "b=5\n",
    "b+=8\n",
    "b"
   ]
  },
  {
   "cell_type": "code",
   "execution_count": 37,
   "id": "9be2d3da-e5ff-4372-8874-f4b027be147a",
   "metadata": {},
   "outputs": [],
   "source": [
    "# Explain the concept of type casting with examples\n",
    "# Ans:Type casting also referred to as type convertion ,it is a process of changing the data type of a value or object\n",
    "#in python"
   ]
  },
  {
   "cell_type": "code",
   "execution_count": 38,
   "id": "4a9075ab-eb49-4800-8833-1a124b1a5001",
   "metadata": {},
   "outputs": [
    {
     "data": {
      "text/plain": [
       "5"
      ]
     },
     "execution_count": 38,
     "metadata": {},
     "output_type": "execute_result"
    }
   ],
   "source": [
    "a=5\n",
    "a"
   ]
  },
  {
   "cell_type": "code",
   "execution_count": 39,
   "id": "9adeed05-abb1-4d36-b339-8fe3089eda9a",
   "metadata": {},
   "outputs": [
    {
     "data": {
      "text/plain": [
       "type[5]"
      ]
     },
     "execution_count": 39,
     "metadata": {},
     "output_type": "execute_result"
    }
   ],
   "source": [
    "type[a]"
   ]
  },
  {
   "cell_type": "code",
   "execution_count": 40,
   "id": "48293b59-44d0-448a-b2e1-432de2ff06a8",
   "metadata": {},
   "outputs": [
    {
     "data": {
      "text/plain": [
       "type[5.6]"
      ]
     },
     "execution_count": 40,
     "metadata": {},
     "output_type": "execute_result"
    }
   ],
   "source": [
    "b=5.6\n",
    "type[b]"
   ]
  },
  {
   "cell_type": "code",
   "execution_count": 41,
   "id": "dbed1eff-d500-4016-8293-0e4f7c7b7858",
   "metadata": {},
   "outputs": [
    {
     "data": {
      "text/plain": [
       "str"
      ]
     },
     "execution_count": 41,
     "metadata": {},
     "output_type": "execute_result"
    }
   ],
   "source": [
    "a=\"2.3\"\n",
    "type(a)"
   ]
  },
  {
   "cell_type": "code",
   "execution_count": 43,
   "id": "a6ada997-3953-4c86-93a3-0c519c327ffa",
   "metadata": {},
   "outputs": [
    {
     "data": {
      "text/plain": [
       "2.3"
      ]
     },
     "execution_count": 43,
     "metadata": {},
     "output_type": "execute_result"
    }
   ],
   "source": [
    "float(a)"
   ]
  },
  {
   "cell_type": "code",
   "execution_count": 44,
   "id": "b8cb783e-eb1b-42af-a25c-65d55c979c2f",
   "metadata": {},
   "outputs": [
    {
     "data": {
      "text/plain": [
       "int"
      ]
     },
     "execution_count": 44,
     "metadata": {},
     "output_type": "execute_result"
    }
   ],
   "source": [
    "#Implicit examples \n",
    "a=5\n",
    "type(a)"
   ]
  },
  {
   "cell_type": "code",
   "execution_count": 45,
   "id": "99ae07a5-49a8-4631-af79-924bcd002dd5",
   "metadata": {},
   "outputs": [
    {
     "data": {
      "text/plain": [
       "str"
      ]
     },
     "execution_count": 45,
     "metadata": {},
     "output_type": "execute_result"
    }
   ],
   "source": [
    "#Explicit examples\n",
    "a=\"2\"\n",
    "type(a)"
   ]
  },
  {
   "cell_type": "code",
   "execution_count": 46,
   "id": "71ef1c93-f930-4c5b-a3fe-3c38313caa47",
   "metadata": {},
   "outputs": [
    {
     "data": {
      "text/plain": [
       "2"
      ]
     },
     "execution_count": 46,
     "metadata": {},
     "output_type": "execute_result"
    }
   ],
   "source": [
    "int(a)"
   ]
  },
  {
   "cell_type": "code",
   "execution_count": 47,
   "id": "d29bd544-56cf-4092-bfd0-4f68d87aa5b5",
   "metadata": {},
   "outputs": [
    {
     "data": {
      "text/plain": [
       "2.0"
      ]
     },
     "execution_count": 47,
     "metadata": {},
     "output_type": "execute_result"
    }
   ],
   "source": [
    "float(a)"
   ]
  },
  {
   "cell_type": "code",
   "execution_count": 48,
   "id": "c5010d0e-7747-4cb1-ad2a-808e024107dd",
   "metadata": {},
   "outputs": [
    {
     "data": {
      "text/plain": [
       "'kiran jaya'"
      ]
     },
     "execution_count": 48,
     "metadata": {},
     "output_type": "execute_result"
    }
   ],
   "source": [
    "a=\"kiran\"\n",
    "b=\" jaya\"\n",
    "a+b"
   ]
  },
  {
   "cell_type": "code",
   "execution_count": 49,
   "id": "cbcefd80-799f-4f9d-acd8-291426ad8725",
   "metadata": {},
   "outputs": [
    {
     "data": {
      "text/plain": [
       "False"
      ]
     },
     "execution_count": 49,
     "metadata": {},
     "output_type": "execute_result"
    }
   ],
   "source": [
    "#bool type casting \n",
    "bool(0)"
   ]
  },
  {
   "cell_type": "code",
   "execution_count": 50,
   "id": "d1e2b8ac-08dd-4305-991f-bec5c0149111",
   "metadata": {},
   "outputs": [
    {
     "data": {
      "text/plain": [
       "True"
      ]
     },
     "execution_count": 50,
     "metadata": {},
     "output_type": "execute_result"
    }
   ],
   "source": [
    "bool(1000)"
   ]
  },
  {
   "cell_type": "code",
   "execution_count": 51,
   "id": "a1b8b09a-a07e-48d7-97c1-a965329a828d",
   "metadata": {},
   "outputs": [
    {
     "data": {
      "text/plain": [
       "True"
      ]
     },
     "execution_count": 51,
     "metadata": {},
     "output_type": "execute_result"
    }
   ],
   "source": [
    "bool(-5)"
   ]
  },
  {
   "cell_type": "code",
   "execution_count": 52,
   "id": "648b6904-9338-4c6a-b10e-18f3feaf5931",
   "metadata": {},
   "outputs": [
    {
     "data": {
      "text/plain": [
       "False"
      ]
     },
     "execution_count": 52,
     "metadata": {},
     "output_type": "execute_result"
    }
   ],
   "source": [
    "bool(\"\")"
   ]
  },
  {
   "cell_type": "code",
   "execution_count": 53,
   "id": "71502a17-2fd0-4dae-ba5d-1f046ba10070",
   "metadata": {},
   "outputs": [],
   "source": [
    "#How do conditonal statements work in python\n",
    "#Ans:conditionals in python are used to execute code based on evaluvation af one or more conditoon, we have three type of conditional \n",
    "# statement loop statements and control statements.\n",
    "# condition statement:it helps to core decision based on some pre condition. \n"
   ]
  },
  {
   "cell_type": "code",
   "execution_count": 54,
   "id": "19535ac5-1ffe-4455-aaf9-a05f5e44a045",
   "metadata": {},
   "outputs": [
    {
     "name": "stdout",
     "output_type": "stream",
     "text": [
      "i will not play cricket\n"
     ]
    }
   ],
   "source": [
    "# If condition example \n",
    "weather=\"rainy\"\n",
    "if weather==\"rainy\":\n",
    "    print(\"i will not play cricket\")\n"
   ]
  },
  {
   "cell_type": "code",
   "execution_count": 55,
   "id": "6f6762e0-0be5-445a-bccf-031070a60df0",
   "metadata": {},
   "outputs": [
    {
     "name": "stdout",
     "output_type": "stream",
     "text": [
      "get out of the bar\n"
     ]
    }
   ],
   "source": [
    "# If else condition \n",
    "age=21\n",
    "if age==18:\n",
    "    print(\"u will get alcohol\")\n",
    "else:\n",
    "    print(\"get out of the bar\")\n",
    "\n"
   ]
  },
  {
   "cell_type": "code",
   "execution_count": 56,
   "id": "f1e28f00-f3fa-4a24-a7b4-16c87303cdef",
   "metadata": {},
   "outputs": [
    {
     "name": "stdout",
     "output_type": "stream",
     "text": [
      "this block will be executed if a is less than 100\n"
     ]
    }
   ],
   "source": [
    "# if elif else condition \n",
    "a=10\n",
    "if a>100:\n",
    "    print(\"this block will be executed greater than 100\")\n",
    "elif a<100:\n",
    "    print(\"this block will be executed if a is less than 100\")\n",
    "else:\n",
    "    print(\"the number is equal to 100\")\n",
    "\n"
   ]
  },
  {
   "cell_type": "code",
   "execution_count": 57,
   "id": "cd2fa38a-338d-4f2f-83f0-6d3457dc2d90",
   "metadata": {},
   "outputs": [],
   "source": [
    "#describe the different types of loops in phython and therir uses cases with examples\n",
    "#ans It allows you to execute a block of code repeadly\n",
    "#two types of loops are for and while"
   ]
  },
  {
   "cell_type": "code",
   "execution_count": 58,
   "id": "3a38e10a-8c29-46bd-8f48-736de3416a81",
   "metadata": {},
   "outputs": [
    {
     "name": "stdout",
     "output_type": "stream",
     "text": [
      "1\n",
      "2\n",
      "3\n",
      "4\n",
      "5\n",
      "6\n"
     ]
    }
   ],
   "source": [
    "#while loop example:\n",
    "n=7\n",
    "i=1\n",
    "while i<n:\n",
    "    print(i)\n",
    "    i=i+1"
   ]
  },
  {
   "cell_type": "code",
   "execution_count": 59,
   "id": "a6e1d220-f218-43d9-a098-62a02b388c7a",
   "metadata": {},
   "outputs": [
    {
     "name": "stdout",
     "output_type": "stream",
     "text": [
      "1\n",
      "2\n"
     ]
    }
   ],
   "source": [
    "n=7\n",
    "i=1\n",
    "while i<n:\n",
    "    print(i)\n",
    "    i=i+1\n",
    "    if i==3:\n",
    "        break\n",
    "else:\n",
    "    print(\"This will be executed when the while is run successfully without any break\")"
   ]
  },
  {
   "cell_type": "code",
   "execution_count": 60,
   "id": "b7a77309-b6c3-4284-b0ec-ad7cef2b2561",
   "metadata": {},
   "outputs": [
    {
     "name": "stdout",
     "output_type": "stream",
     "text": [
      "1\n",
      "2\n",
      "Ajay\n",
      "pwskills\n"
     ]
    }
   ],
   "source": [
    "#loops example\n",
    "l=(1,2,\"Ajay\",\"pwskills\")\n",
    "for i in l:\n",
    "    print(i)"
   ]
  },
  {
   "cell_type": "code",
   "execution_count": 61,
   "id": "32996cc0-f382-44cd-a384-1d7e5c40b4b2",
   "metadata": {},
   "outputs": [
    {
     "data": {
      "text/plain": [
       "[0, 1, 2, 3, 4, 5, 6, 7, 8, 9]"
      ]
     },
     "execution_count": 61,
     "metadata": {},
     "output_type": "execute_result"
    }
   ],
   "source": [
    "list(range(0,10))"
   ]
  },
  {
   "cell_type": "code",
   "execution_count": 62,
   "id": "8ccfced7-5ace-4860-98b4-4c1e410d0fb6",
   "metadata": {},
   "outputs": [],
   "source": [
    "#explain predefined keywords in phython and provide examples of how they are used in python.\n",
    "#Ans:keywords are reserve in python that have special meanings and cannot be used a identifiers.\n",
    "#Examples of keywords are IF WHILE FALSE TRUE NONE ETC\n"
   ]
  },
  {
   "cell_type": "code",
   "execution_count": 63,
   "id": "999cd44c-fd10-4be8-9814-b042a962bbf0",
   "metadata": {},
   "outputs": [
    {
     "data": {
      "text/plain": [
       "int"
      ]
     },
     "execution_count": 63,
     "metadata": {},
     "output_type": "execute_result"
    }
   ],
   "source": [
    "#Examples \n",
    "a=121\n",
    "type(a)"
   ]
  },
  {
   "cell_type": "code",
   "execution_count": 64,
   "id": "3198e33d-5b42-4eb3-8773-2de5a6b982e2",
   "metadata": {},
   "outputs": [
    {
     "data": {
      "text/plain": [
       "str"
      ]
     },
     "execution_count": 64,
     "metadata": {},
     "output_type": "execute_result"
    }
   ],
   "source": [
    "a=\"3.5\"\n",
    "type(a)"
   ]
  },
  {
   "cell_type": "code",
   "execution_count": 65,
   "id": "b3df2d68-0394-43b7-8e2b-deb2772bd655",
   "metadata": {},
   "outputs": [
    {
     "data": {
      "text/plain": [
       "3.5"
      ]
     },
     "execution_count": 65,
     "metadata": {},
     "output_type": "execute_result"
    }
   ],
   "source": [
    "float(a)"
   ]
  },
  {
   "cell_type": "code",
   "execution_count": 66,
   "id": "0e9c1d8a-23b5-4418-b916-42ce0eb1f1bc",
   "metadata": {},
   "outputs": [
    {
     "data": {
      "text/plain": [
       "float"
      ]
     },
     "execution_count": 66,
     "metadata": {},
     "output_type": "execute_result"
    }
   ],
   "source": [
    "type(float(a))"
   ]
  },
  {
   "cell_type": "code",
   "execution_count": 67,
   "id": "288e248f-4d81-449d-89bd-f24f1cc98207",
   "metadata": {},
   "outputs": [
    {
     "data": {
      "text/plain": [
       "bool"
      ]
     },
     "execution_count": 67,
     "metadata": {},
     "output_type": "execute_result"
    }
   ],
   "source": [
    "c=True\n",
    "type(c)"
   ]
  },
  {
   "cell_type": "code",
   "execution_count": 68,
   "id": "ff72c653-c62b-40f3-8b33-356de95be76c",
   "metadata": {},
   "outputs": [
    {
     "data": {
      "text/plain": [
       "bool"
      ]
     },
     "execution_count": 68,
     "metadata": {},
     "output_type": "execute_result"
    }
   ],
   "source": [
    "d=False\n",
    "type(d)"
   ]
  },
  {
   "cell_type": "code",
   "execution_count": null,
   "id": "3e27cda2-169c-46a5-a0e2-35e6d33c0bce",
   "metadata": {},
   "outputs": [],
   "source": []
  }
 ],
 "metadata": {
  "kernelspec": {
   "display_name": "Python 3 (ipykernel)",
   "language": "python",
   "name": "python3"
  },
  "language_info": {
   "codemirror_mode": {
    "name": "ipython",
    "version": 3
   },
   "file_extension": ".py",
   "mimetype": "text/x-python",
   "name": "python",
   "nbconvert_exporter": "python",
   "pygments_lexer": "ipython3",
   "version": "3.10.8"
  }
 },
 "nbformat": 4,
 "nbformat_minor": 5
}
